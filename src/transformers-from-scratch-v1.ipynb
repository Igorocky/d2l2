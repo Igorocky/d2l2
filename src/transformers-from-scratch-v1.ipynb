{
 "cells": [
  {
   "cell_type": "code",
   "execution_count": 1,
   "id": "8f61688e-c1a6-4ce4-acbd-a0c9ac130261",
   "metadata": {},
   "outputs": [],
   "source": [
    "# https://peterbloem.nl/blog/transformers"
   ]
  },
  {
   "cell_type": "code",
   "execution_count": 13,
   "id": "29697333-e0ac-4d5b-8f15-f3dd5b6fcf44",
   "metadata": {},
   "outputs": [],
   "source": [
    "import torch\n",
    "import torch.nn as nn\n",
    "import torch.nn.functional as F\n",
    "import numpy as np"
   ]
  },
  {
   "cell_type": "code",
   "execution_count": 173,
   "id": "0485785e-e604-44d8-a49d-25df35bab624",
   "metadata": {},
   "outputs": [
    {
     "name": "stdout",
     "output_type": "stream",
     "text": [
      "wq.shape=torch.Size([4, 256, 64])\n",
      "x.shape=torch.Size([32, 400])\n"
     ]
    }
   ],
   "source": [
    "torch.manual_seed(123123)\n",
    "tokens_amount = 100\n",
    "heads_num = 4\n",
    "head_size = 64\n",
    "emb_len = heads_num * head_size\n",
    "ctx_len = 400\n",
    "batch_size = 32\n",
    "\n",
    "emb = nn.Embedding(tokens_amount, emb_len)\n",
    "wq = torch.randn(heads_num,emb_len,head_size)\n",
    "wk = torch.randn(heads_num,emb_len,head_size)\n",
    "wv = torch.randn(heads_num,emb_len,head_size)\n",
    "\n",
    "x = torch.randint(0, tokens_amount, (batch_size, ctx_len))\n",
    "\n",
    "print(f'{wq.shape=}')\n",
    "print(f'{x.shape=}')"
   ]
  },
  {
   "cell_type": "code",
   "execution_count": 174,
   "id": "bf8d39d5-a1fc-4e36-b760-67893f82d654",
   "metadata": {},
   "outputs": [
    {
     "name": "stdout",
     "output_type": "stream",
     "text": [
      "xe.shape=torch.Size([32, 400, 256])\n"
     ]
    }
   ],
   "source": [
    "xe = emb(x)\n",
    "print(f'{xe.shape=}')"
   ]
  },
  {
   "cell_type": "code",
   "execution_count": 178,
   "metadata": {},
   "outputs": [
    {
     "name": "stdout",
     "output_type": "stream",
     "text": [
      "xq.shape=torch.Size([32, 4, 400, 64])\n"
     ]
    }
   ],
   "source": [
    "xq = torch.einsum('bti,hic->bhtc',xe,wq)\n",
    "xk = torch.einsum('bti,hic->bhtc',xe,wk)\n",
    "xv = torch.einsum('bti,hic->bhtc',xe,wv)\n",
    "\n",
    "print(f'{xq.shape=}')"
   ]
  },
  {
   "cell_type": "code",
   "execution_count": 164,
   "metadata": {},
   "outputs": [
    {
     "data": {
      "text/plain": [
       "tensor([[[0.3478, 0.3622, 0.2900],\n",
       "         [0.3539, 0.3723, 0.2738],\n",
       "         [0.3142, 0.3156, 0.3702]],\n",
       "\n",
       "        [[0.3274, 0.3222, 0.3503],\n",
       "         [0.3454, 0.3776, 0.2770],\n",
       "         [0.2808, 0.2604, 0.4588]]], grad_fn=<SoftmaxBackward0>)"
      ]
     },
     "execution_count": 164,
     "metadata": {},
     "output_type": "execute_result"
    }
   ],
   "source": [
    "wij = torch.einsum('bti,bTi->btT',xq,xk) / (emb_len ** 0.5)\n",
    "wij = F.softmax(wij,dim=2)\n",
    "wij"
   ]
  },
  {
   "cell_type": "code",
   "execution_count": 187,
   "metadata": {},
   "outputs": [
    {
     "ename": "RuntimeError",
     "evalue": "The size of tensor a (2) must match the size of tensor b (4) at non-singleton dimension 1",
     "output_type": "error",
     "traceback": [
      "\u001b[1;31m---------------------------------------------------------------------------\u001b[0m",
      "\u001b[1;31mRuntimeError\u001b[0m                              Traceback (most recent call last)",
      "\u001b[1;32mc:\\Users\\Igor\\igye\\projects\\python\\d2l2\\src\\transformers-from-scratch.ipynb Cell 7\u001b[0m line \u001b[0;36m1\n\u001b[1;32m----> <a href='vscode-notebook-cell:/c%3A/Users/Igor/igye/projects/python/d2l2/src/transformers-from-scratch.ipynb#X13sZmlsZQ%3D%3D?line=0'>1</a>\u001b[0m y1 \u001b[39m=\u001b[39m wij \u001b[39m@\u001b[39;49m xv\n\u001b[0;32m      <a href='vscode-notebook-cell:/c%3A/Users/Igor/igye/projects/python/d2l2/src/transformers-from-scratch.ipynb#X13sZmlsZQ%3D%3D?line=1'>2</a>\u001b[0m y2 \u001b[39m=\u001b[39m torch\u001b[39m.\u001b[39meinsum(\u001b[39m'\u001b[39m\u001b[39mbti,bic->btc\u001b[39m\u001b[39m'\u001b[39m,wij,xv)\n\u001b[0;32m      <a href='vscode-notebook-cell:/c%3A/Users/Igor/igye/projects/python/d2l2/src/transformers-from-scratch.ipynb#X13sZmlsZQ%3D%3D?line=2'>3</a>\u001b[0m (y1 \u001b[39m==\u001b[39m y2)\u001b[39m.\u001b[39mall()\n",
      "\u001b[1;31mRuntimeError\u001b[0m: The size of tensor a (2) must match the size of tensor b (4) at non-singleton dimension 1"
     ]
    }
   ],
   "source": [
    "y1 = wij @ xv\n",
    "y2 = torch.einsum('bti,bic->btc',wij,xv)\n",
    "(y1 == y2).all()"
   ]
  }
 ],
 "metadata": {
  "kernelspec": {
   "display_name": ".venv",
   "language": "python",
   "name": "python3"
  },
  "language_info": {
   "codemirror_mode": {
    "name": "ipython",
    "version": 3
   },
   "file_extension": ".py",
   "mimetype": "text/x-python",
   "name": "python",
   "nbconvert_exporter": "python",
   "pygments_lexer": "ipython3",
   "version": "3.9.5"
  }
 },
 "nbformat": 4,
 "nbformat_minor": 5
}
