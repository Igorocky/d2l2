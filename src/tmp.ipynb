{
 "cells": [
  {
   "cell_type": "code",
   "id": "initial_id",
   "metadata": {
    "collapsed": true,
    "ExecuteTime": {
     "end_time": "2024-06-27T05:24:57.478248Z",
     "start_time": "2024-06-27T05:24:57.463475Z"
    }
   },
   "source": [
    "import os\n",
    "\n",
    "import torch\n",
    "import imageio.v3 as iio\n",
    "import csv\n",
    "import numpy as np\n",
    "import torch.optim as optim\n",
    "import torch.nn as nn"
   ],
   "outputs": [],
   "execution_count": 46
  },
  {
   "metadata": {
    "ExecuteTime": {
     "end_time": "2024-06-27T05:25:09.092833Z",
     "start_time": "2024-06-27T05:25:09.087406Z"
    }
   },
   "cell_type": "code",
   "source": [
    "t_c = [0.5, 14.0, 15.0, 28.0, 11.0, 8.0, 3.0, -4.0, 6.0, 13.0, 21.0]\n",
    "t_u = [35.7, 55.9, 58.2, 81.9, 56.3, 48.9, 33.9, 21.8, 48.4, 60.4, 68.4]\n",
    "t_c = torch.tensor(t_c).unsqueeze(1)\n",
    "t_u = torch.tensor(t_u).unsqueeze(1)"
   ],
   "id": "3c8835937c68b395",
   "outputs": [],
   "execution_count": 47
  },
  {
   "metadata": {
    "ExecuteTime": {
     "end_time": "2024-06-27T05:26:03.439337Z",
     "start_time": "2024-06-27T05:26:03.411864Z"
    }
   },
   "cell_type": "code",
   "source": [
    "linear_model = nn.Linear(1, 1)\n",
    "optimizer = optim.SGD(\n",
    "    linear_model.parameters(),\n",
    "    lr=1e-2)"
   ],
   "id": "3f8fde7f89e9a796",
   "outputs": [],
   "execution_count": 48
  },
  {
   "metadata": {
    "ExecuteTime": {
     "end_time": "2024-06-27T06:00:28.694385Z",
     "start_time": "2024-06-27T06:00:28.681332Z"
    }
   },
   "cell_type": "code",
   "source": [
    "seq_model = nn.Sequential(\n",
    "    nn.Linear(1, 13), #1\n",
    "    nn.Tanh(),\n",
    "    nn.Linear(13, 1)) #2\n",
    "seq_model"
   ],
   "id": "4b76fcece4864195",
   "outputs": [
    {
     "data": {
      "text/plain": [
       "Sequential(\n",
       "  (0): Linear(in_features=1, out_features=13, bias=True)\n",
       "  (1): Tanh()\n",
       "  (2): Linear(in_features=13, out_features=1, bias=True)\n",
       ")"
      ]
     },
     "execution_count": 50,
     "metadata": {},
     "output_type": "execute_result"
    }
   ],
   "execution_count": 50
  }
 ],
 "metadata": {
  "kernelspec": {
   "display_name": "Python 3",
   "language": "python",
   "name": "python3"
  },
  "language_info": {
   "codemirror_mode": {
    "name": "ipython",
    "version": 2
   },
   "file_extension": ".py",
   "mimetype": "text/x-python",
   "name": "python",
   "nbconvert_exporter": "python",
   "pygments_lexer": "ipython2",
   "version": "2.7.6"
  }
 },
 "nbformat": 4,
 "nbformat_minor": 5
}
