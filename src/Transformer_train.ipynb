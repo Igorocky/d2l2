{
 "cells": [
  {
   "cell_type": "code",
   "execution_count": 2,
   "metadata": {},
   "outputs": [],
   "source": [
    "import torch\n",
    "import torch.nn as nn\n",
    "import torch.nn.functional as F\n",
    "import numpy as np\n",
    "import os\n",
    "import math\n",
    "import random\n",
    "import re\n",
    "import importlib\n",
    "import matplotlib.pyplot as plt\n",
    "%matplotlib inline"
   ]
  },
  {
   "cell_type": "code",
   "execution_count": 3,
   "metadata": {},
   "outputs": [],
   "source": [
    "with open('../data/text-1.txt', 'r', encoding='utf-8') as f:\n",
    "    text = f.read()"
   ]
  },
  {
   "cell_type": "code",
   "execution_count": 4,
   "metadata": {},
   "outputs": [
    {
     "data": {
      "text/plain": [
       "<module 'DataLoader' from 'c:\\\\Users\\\\Igor\\\\igye\\\\projects\\\\python\\\\d2l2\\\\src\\\\DataLoader.py'>"
      ]
     },
     "execution_count": 4,
     "metadata": {},
     "output_type": "execute_result"
    }
   ],
   "source": [
    "import DataLoader\n",
    "importlib.reload(DataLoader)"
   ]
  },
  {
   "cell_type": "code",
   "execution_count": 5,
   "metadata": {},
   "outputs": [],
   "source": [
    "dataLoader = DataLoader.DataLoader(rawText=text)"
   ]
  },
  {
   "cell_type": "code",
   "execution_count": 40,
   "metadata": {},
   "outputs": [
    {
     "data": {
      "text/plain": [
       "<module 'Transformer' from 'c:\\\\Users\\\\Igor\\\\igye\\\\projects\\\\python\\\\d2l2\\\\src\\\\Transformer.py'>"
      ]
     },
     "execution_count": 40,
     "metadata": {},
     "output_type": "execute_result"
    }
   ],
   "source": [
    "import Transformer\n",
    "importlib.reload(Transformer)"
   ]
  },
  {
   "cell_type": "code",
   "execution_count": 78,
   "metadata": {},
   "outputs": [],
   "source": [
    "ctxLen = 100\n",
    "headCnt = 4\n",
    "headSize = 16\n",
    "embLen = headCnt*headSize\n",
    "model = Transformer.Transformer(\n",
    "    tokenCnt=dataLoader.numOfTokens,\n",
    "    embLen=embLen,\n",
    "    headCnt=headCnt,\n",
    "    layerCnt=8,\n",
    "    bias=True,\n",
    "    dropout=0.3,\n",
    "    maxCtxLen=ctxLen\n",
    ")"
   ]
  },
  {
   "cell_type": "code",
   "execution_count": 49,
   "metadata": {},
   "outputs": [
    {
     "data": {
      "text/plain": [
       "<module 'utils' from 'c:\\\\Users\\\\Igor\\\\igye\\\\projects\\\\python\\\\d2l2\\\\src\\\\utils.py'>"
      ]
     },
     "execution_count": 49,
     "metadata": {},
     "output_type": "execute_result"
    }
   ],
   "source": [
    "import utils\n",
    "importlib.reload(utils)"
   ]
  },
  {
   "cell_type": "code",
   "execution_count": 79,
   "metadata": {},
   "outputs": [
    {
     "name": "stdout",
     "output_type": "stream",
     "text": [
      "numOfParams=415,872\n"
     ]
    }
   ],
   "source": [
    "numOfParams = sum(p.numel() for p in model.parameters())\n",
    "print(f'{numOfParams=:,}')\n",
    "# utils.showParamsStats(model, figsize=(10,20))"
   ]
  },
  {
   "cell_type": "code",
   "execution_count": 90,
   "metadata": {},
   "outputs": [
    {
     "data": {
      "text/plain": [
       "'on his return to spain he found ent mand iped stout mok o the leelar. it lig thintht pleated thanthive a rat owhel but ant.” “(jun  '"
      ]
     },
     "execution_count": 90,
     "metadata": {},
     "output_type": "execute_result"
    }
   ],
   "source": [
    "model.eval()\n",
    "ints = model.generate(dataLoader.strToInts('On his return to Spain he found ').unsqueeze(0),100)\n",
    "dataLoader.intsToStr(ints[0])"
   ]
  },
  {
   "cell_type": "code",
   "execution_count": 25,
   "metadata": {},
   "outputs": [
    {
     "data": {
      "text/plain": [
       "<module 'utils' from 'c:\\\\Users\\\\Igor\\\\igye\\\\projects\\\\python\\\\d2l2\\\\src\\\\utils.py'>"
      ]
     },
     "execution_count": 25,
     "metadata": {},
     "output_type": "execute_result"
    }
   ],
   "source": [
    "importlib.reload(utils)"
   ]
  },
  {
   "cell_type": "code",
   "execution_count": 81,
   "metadata": {},
   "outputs": [],
   "source": [
    "optimizer = torch.optim.AdamW(model.parameters(), lr=1e-3)"
   ]
  },
  {
   "cell_type": "code",
   "execution_count": 84,
   "metadata": {},
   "outputs": [
    {
     "name": "stdout",
     "output_type": "stream",
     "text": [
      "epoch:0, trLoss=2.3921, valLoss=2.3927\n",
      "epoch:1, trLoss=2.3586, valLoss=2.3515\n",
      "epoch:2, trLoss=2.3315, valLoss=2.3356\n",
      "epoch:3, trLoss=2.2988, valLoss=2.2989\n",
      "epoch:4, trLoss=2.2496, valLoss=2.2471\n",
      "epoch:5, trLoss=2.1825, valLoss=2.1978\n",
      "epoch:6, trLoss=2.1358, valLoss=2.1350\n",
      "epoch:7, trLoss=2.0790, valLoss=2.0885\n",
      "epoch:8, trLoss=2.0406, valLoss=2.0415\n",
      "epoch:9, trLoss=1.9956, valLoss=2.0016\n"
     ]
    }
   ],
   "source": [
    "utils.trainLoop(\n",
    "    epochNum=10,\n",
    "    batchesPerEpoch=100,\n",
    "    batchSize=32,\n",
    "    ctxLen=ctxLen,\n",
    "    model=model,\n",
    "    optimizer=optimizer,\n",
    "    dataLoader=dataLoader\n",
    ")"
   ]
  }
 ],
 "metadata": {
  "kernelspec": {
   "display_name": ".venv",
   "language": "python",
   "name": "python3"
  },
  "language_info": {
   "codemirror_mode": {
    "name": "ipython",
    "version": 3
   },
   "file_extension": ".py",
   "mimetype": "text/x-python",
   "name": "python",
   "nbconvert_exporter": "python",
   "pygments_lexer": "ipython3",
   "version": "3.9.5"
  }
 },
 "nbformat": 4,
 "nbformat_minor": 2
}
