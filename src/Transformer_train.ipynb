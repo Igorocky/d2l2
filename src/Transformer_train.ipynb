{
 "cells": [
  {
   "cell_type": "code",
   "execution_count": 1,
   "metadata": {},
   "outputs": [],
   "source": [
    "import torch\n",
    "import torch.nn as nn\n",
    "import torch.nn.functional as F\n",
    "import numpy as np\n",
    "import os\n",
    "import math\n",
    "import random\n",
    "import re\n",
    "import importlib\n",
    "import matplotlib.pyplot as plt\n",
    "%matplotlib inline"
   ]
  },
  {
   "cell_type": "code",
   "execution_count": 2,
   "metadata": {},
   "outputs": [],
   "source": [
    "with open('../data/text-1.txt', 'r', encoding='utf-8') as f:\n",
    "    text = f.read()"
   ]
  },
  {
   "cell_type": "code",
   "execution_count": 3,
   "metadata": {},
   "outputs": [
    {
     "data": {
      "text/plain": [
       "<module 'DataLoader' from 'c:\\\\Users\\\\Igor\\\\igye\\\\projects\\\\python\\\\d2l2\\\\src\\\\DataLoader.py'>"
      ]
     },
     "execution_count": 3,
     "metadata": {},
     "output_type": "execute_result"
    }
   ],
   "source": [
    "import DataLoader\n",
    "importlib.reload(DataLoader)"
   ]
  },
  {
   "cell_type": "code",
   "execution_count": 4,
   "metadata": {},
   "outputs": [],
   "source": [
    "dataLoader = DataLoader.DataLoader(rawText=text)"
   ]
  },
  {
   "cell_type": "code",
   "execution_count": 5,
   "metadata": {},
   "outputs": [
    {
     "data": {
      "text/plain": [
       "<module 'Transformer' from 'c:\\\\Users\\\\Igor\\\\igye\\\\projects\\\\python\\\\d2l2\\\\src\\\\Transformer.py'>"
      ]
     },
     "execution_count": 5,
     "metadata": {},
     "output_type": "execute_result"
    }
   ],
   "source": [
    "import Transformer\n",
    "importlib.reload(Transformer)"
   ]
  },
  {
   "cell_type": "code",
   "execution_count": 6,
   "metadata": {},
   "outputs": [],
   "source": [
    "ctxLen = 50\n",
    "headCnt = 4\n",
    "headSize = 8\n",
    "embLen = headCnt*headSize\n",
    "model = Transformer.Transformer(\n",
    "    tokenCnt=dataLoader.numOfTokens,\n",
    "    embLen=embLen,\n",
    "    headCnt=headCnt,\n",
    "    layerCnt=4,\n",
    "    bias=True,\n",
    "    dropout=0.0,\n",
    "    maxCtxLen=ctxLen\n",
    ")"
   ]
  },
  {
   "cell_type": "code",
   "execution_count": 7,
   "metadata": {},
   "outputs": [
    {
     "data": {
      "text/plain": [
       "<module 'utils' from 'c:\\\\Users\\\\Igor\\\\igye\\\\projects\\\\python\\\\d2l2\\\\src\\\\utils.py'>"
      ]
     },
     "execution_count": 7,
     "metadata": {},
     "output_type": "execute_result"
    }
   ],
   "source": [
    "import utils\n",
    "importlib.reload(utils)"
   ]
  },
  {
   "cell_type": "code",
   "execution_count": 8,
   "metadata": {},
   "outputs": [
    {
     "name": "stdout",
     "output_type": "stream",
     "text": [
      "numOfParams=57,216\n"
     ]
    }
   ],
   "source": [
    "numOfParams = sum(p.numel() for p in model.parameters())\n",
    "print(f'{numOfParams=:,}')\n",
    "# utils.showParamsStats(model, figsize=(10,20))"
   ]
  },
  {
   "cell_type": "code",
   "execution_count": 121,
   "metadata": {},
   "outputs": [
    {
     "data": {
      "text/plain": [
       "'i saw well quite kie thy turned tha'"
      ]
     },
     "execution_count": 121,
     "metadata": {},
     "output_type": "execute_result"
    }
   ],
   "source": [
    "model.eval()\n",
    "ints = model.generate(dataLoader.strToInts('I saw').unsqueeze(0),30)\n",
    "dataLoader.intsToStr(ints[0])"
   ]
  },
  {
   "cell_type": "code",
   "execution_count": 10,
   "metadata": {},
   "outputs": [
    {
     "data": {
      "text/plain": [
       "<module 'utils' from 'c:\\\\Users\\\\Igor\\\\igye\\\\projects\\\\python\\\\d2l2\\\\src\\\\utils.py'>"
      ]
     },
     "execution_count": 10,
     "metadata": {},
     "output_type": "execute_result"
    }
   ],
   "source": [
    "importlib.reload(utils)"
   ]
  },
  {
   "cell_type": "code",
   "execution_count": 89,
   "metadata": {},
   "outputs": [],
   "source": [
    "optimizer = torch.optim.AdamW(model.parameters(), lr=1e-6)"
   ]
  },
  {
   "cell_type": "code",
   "execution_count": 90,
   "metadata": {},
   "outputs": [
    {
     "name": "stdout",
     "output_type": "stream",
     "text": [
      "epoch:0, trLoss=1.3943, valLoss=1.3931\n",
      "epoch:1, trLoss=1.3934, valLoss=1.3848\n",
      "epoch:2, trLoss=1.3945, valLoss=1.3806\n",
      "epoch:3, trLoss=1.3912, valLoss=1.4026\n",
      "epoch:4, trLoss=1.3920, valLoss=1.3883\n",
      "epoch:5, trLoss=1.3950, valLoss=1.3967\n",
      "epoch:6, trLoss=1.3990, valLoss=1.3913\n",
      "epoch:7, trLoss=1.3986, valLoss=1.3912\n",
      "epoch:8, trLoss=1.3946, valLoss=1.3926\n",
      "epoch:9, trLoss=1.3916, valLoss=1.3886\n",
      "epoch:10, trLoss=1.3955, valLoss=1.4002\n",
      "epoch:11, trLoss=1.3960, valLoss=1.4034\n",
      "epoch:12, trLoss=1.3946, valLoss=1.3899\n",
      "epoch:13, trLoss=1.3975, valLoss=1.3971\n",
      "epoch:14, trLoss=1.3992, valLoss=1.3903\n",
      "epoch:15, trLoss=1.3945, valLoss=1.3975\n",
      "epoch:16, trLoss=1.3802, valLoss=1.3816\n",
      "epoch:17, trLoss=1.3937, valLoss=1.3988\n",
      "epoch:18, trLoss=1.3893, valLoss=1.4070\n",
      "epoch:19, trLoss=1.3984, valLoss=1.3837\n",
      "epoch:20, trLoss=1.3966, valLoss=1.3944\n",
      "epoch:21, trLoss=1.3931, valLoss=1.3972\n",
      "epoch:22, trLoss=1.3890, valLoss=1.3983\n",
      "epoch:23, trLoss=1.3919, valLoss=1.3971\n",
      "epoch:24, trLoss=1.3922, valLoss=1.3948\n",
      "epoch:25, trLoss=1.3943, valLoss=1.3830\n",
      "epoch:26, trLoss=1.3972, valLoss=1.3868\n",
      "epoch:27, trLoss=1.3967, valLoss=1.3978\n",
      "epoch:28, trLoss=1.3946, valLoss=1.4016\n",
      "epoch:29, trLoss=1.3951, valLoss=1.4064\n",
      "epoch:30, trLoss=1.3980, valLoss=1.3829\n",
      "epoch:31, trLoss=1.3853, valLoss=1.3989\n",
      "epoch:32, trLoss=1.3965, valLoss=1.3955\n",
      "epoch:33, trLoss=1.3903, valLoss=1.3834\n",
      "epoch:34, trLoss=1.3929, valLoss=1.3946\n",
      "epoch:35, trLoss=1.3855, valLoss=1.3930\n",
      "epoch:36, trLoss=1.3918, valLoss=1.3874\n",
      "epoch:37, trLoss=1.4055, valLoss=1.3856\n",
      "epoch:38, trLoss=1.3892, valLoss=1.3865\n",
      "epoch:39, trLoss=1.3865, valLoss=1.3996\n",
      "epoch:40, trLoss=1.3949, valLoss=1.3966\n",
      "epoch:41, trLoss=1.3830, valLoss=1.3871\n",
      "epoch:42, trLoss=1.3938, valLoss=1.3847\n",
      "epoch:43, trLoss=1.3980, valLoss=1.3995\n",
      "epoch:44, trLoss=1.3939, valLoss=1.3951\n",
      "epoch:45, trLoss=1.3895, valLoss=1.3990\n",
      "epoch:46, trLoss=1.3972, valLoss=1.3933\n",
      "epoch:47, trLoss=1.3971, valLoss=1.4018\n",
      "epoch:48, trLoss=1.3973, valLoss=1.4014\n",
      "epoch:49, trLoss=1.3893, valLoss=1.4014\n",
      "epoch:50, trLoss=1.3949, valLoss=1.3926\n",
      "epoch:51, trLoss=1.3847, valLoss=1.3954\n",
      "epoch:52, trLoss=1.3939, valLoss=1.3911\n",
      "epoch:53, trLoss=1.3942, valLoss=1.4034\n",
      "epoch:54, trLoss=1.3927, valLoss=1.3859\n",
      "epoch:55, trLoss=1.3949, valLoss=1.3966\n",
      "epoch:56, trLoss=1.4018, valLoss=1.3897\n",
      "epoch:57, trLoss=1.3980, valLoss=1.3907\n",
      "epoch:58, trLoss=1.3929, valLoss=1.3921\n",
      "epoch:59, trLoss=1.3929, valLoss=1.3829\n",
      "epoch:60, trLoss=1.3899, valLoss=1.3782\n",
      "epoch:61, trLoss=1.4029, valLoss=1.3836\n",
      "epoch:62, trLoss=1.3964, valLoss=1.3981\n",
      "epoch:63, trLoss=1.3825, valLoss=1.3923\n",
      "epoch:64, trLoss=1.3883, valLoss=1.3853\n",
      "epoch:65, trLoss=1.3988, valLoss=1.4011\n",
      "epoch:66, trLoss=1.3965, valLoss=1.3931\n",
      "epoch:67, trLoss=1.3999, valLoss=1.4044\n",
      "epoch:68, trLoss=1.3899, valLoss=1.3987\n",
      "epoch:69, trLoss=1.3920, valLoss=1.3906\n",
      "epoch:70, trLoss=1.3989, valLoss=1.4068\n",
      "epoch:71, trLoss=1.3884, valLoss=1.4019\n",
      "epoch:72, trLoss=1.3954, valLoss=1.4037\n",
      "epoch:73, trLoss=1.3981, valLoss=1.3823\n",
      "epoch:74, trLoss=1.3911, valLoss=1.4081\n",
      "epoch:75, trLoss=1.3878, valLoss=1.3939\n",
      "epoch:76, trLoss=1.3899, valLoss=1.3946\n",
      "epoch:77, trLoss=1.3929, valLoss=1.4011\n",
      "epoch:78, trLoss=1.3963, valLoss=1.3894\n",
      "epoch:79, trLoss=1.3889, valLoss=1.3895\n",
      "epoch:80, trLoss=1.4020, valLoss=1.4126\n",
      "epoch:81, trLoss=1.3983, valLoss=1.3863\n",
      "epoch:82, trLoss=1.3881, valLoss=1.3935\n",
      "epoch:83, trLoss=1.3928, valLoss=1.4230\n",
      "epoch:84, trLoss=1.3993, valLoss=1.3918\n",
      "epoch:85, trLoss=1.3938, valLoss=1.3860\n",
      "epoch:86, trLoss=1.3915, valLoss=1.3963\n",
      "epoch:87, trLoss=1.3917, valLoss=1.3747\n",
      "epoch:88, trLoss=1.3946, valLoss=1.4152\n",
      "epoch:89, trLoss=1.3956, valLoss=1.3883\n",
      "epoch:90, trLoss=1.3962, valLoss=1.4065\n",
      "epoch:91, trLoss=1.4031, valLoss=1.4057\n",
      "epoch:92, trLoss=1.3988, valLoss=1.3997\n",
      "epoch:93, trLoss=1.4010, valLoss=1.3936\n",
      "epoch:94, trLoss=1.3973, valLoss=1.3818\n",
      "epoch:95, trLoss=1.4017, valLoss=1.3929\n",
      "epoch:96, trLoss=1.3942, valLoss=1.3989\n",
      "epoch:97, trLoss=1.3965, valLoss=1.3847\n",
      "epoch:98, trLoss=1.3898, valLoss=1.3961\n",
      "epoch:99, trLoss=1.3857, valLoss=1.3958\n"
     ]
    }
   ],
   "source": [
    "utils.trainLoop(\n",
    "    epochNum=100,\n",
    "    batchesPerEpoch=100,\n",
    "    batchSize=32,\n",
    "    ctxLen=ctxLen,\n",
    "    model=model,\n",
    "    optimizer=optimizer,\n",
    "    dataLoader=dataLoader\n",
    ")"
   ]
  }
 ],
 "metadata": {
  "kernelspec": {
   "display_name": ".venv",
   "language": "python",
   "name": "python3"
  },
  "language_info": {
   "codemirror_mode": {
    "name": "ipython",
    "version": 3
   },
   "file_extension": ".py",
   "mimetype": "text/x-python",
   "name": "python",
   "nbconvert_exporter": "python",
   "pygments_lexer": "ipython3",
   "version": "3.9.5"
  }
 },
 "nbformat": 4,
 "nbformat_minor": 2
}
