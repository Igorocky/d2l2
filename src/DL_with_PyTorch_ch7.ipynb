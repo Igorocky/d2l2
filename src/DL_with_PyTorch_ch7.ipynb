{
 "cells": [
  {
   "metadata": {
    "ExecuteTime": {
     "end_time": "2024-06-30T08:34:18.978535Z",
     "start_time": "2024-06-30T08:34:13.223169Z"
    }
   },
   "cell_type": "code",
   "source": [
    "import os\n",
    "\n",
    "import torch\n",
    "import imageio.v3 as iio\n",
    "import csv\n",
    "import numpy as np\n",
    "import torch.optim as optim\n",
    "import torch.nn as nn\n",
    "from torchvision import datasets\n",
    "from matplotlib import pyplot as plt\n",
    "from torchvision import transforms\n",
    "import torch.nn.functional as F\n",
    "import datetime"
   ],
   "id": "a916a71887df69b6",
   "outputs": [],
   "execution_count": 1
  },
  {
   "metadata": {
    "ExecuteTime": {
     "end_time": "2024-06-30T08:34:22.171511Z",
     "start_time": "2024-06-30T08:34:20.626410Z"
    }
   },
   "cell_type": "code",
   "source": [
    "data_path = 'C:/Users/Igor/igye/projects/python/d2l2/data/cifar10/'\n",
    "cifar10 = datasets.CIFAR10(data_path, train=True, download=True,   transform=transforms.Compose([\n",
    "    transforms.ToTensor(),\n",
    "    transforms.Normalize((0.4915, 0.4823, 0.4468),\n",
    "                         (0.2470, 0.2435, 0.2616))\n",
    "]))\n",
    "cifar10_val = datasets.CIFAR10(data_path, train=False, download=True,   transform=transforms.Compose([\n",
    "    transforms.ToTensor(),\n",
    "    transforms.Normalize((0.4915, 0.4823, 0.4468),\n",
    "                         (0.2470, 0.2435, 0.2616))\n",
    "]))"
   ],
   "id": "f9c51b5fc5200c1",
   "outputs": [
    {
     "name": "stdout",
     "output_type": "stream",
     "text": [
      "Files already downloaded and verified\n",
      "Files already downloaded and verified\n"
     ]
    }
   ],
   "execution_count": 2
  },
  {
   "metadata": {
    "ExecuteTime": {
     "end_time": "2024-06-30T08:34:32.307186Z",
     "start_time": "2024-06-30T08:34:24.896515Z"
    }
   },
   "cell_type": "code",
   "source": [
    "label_map = {0: 0, 2: 1}\n",
    "class_names = ['airplane', 'bird']\n",
    "cifar2 = [(img, label_map[label])\n",
    "          for img, label in cifar10\n",
    "          if label in [0, 2]]\n",
    "cifar2_val = [(img, label_map[label])\n",
    "              for img, label in cifar10_val\n",
    "              if label in [0, 2]]"
   ],
   "id": "668ad16257e6b914",
   "outputs": [],
   "execution_count": 3
  },
  {
   "metadata": {
    "ExecuteTime": {
     "end_time": "2024-06-30T08:34:33.528279Z",
     "start_time": "2024-06-30T08:34:33.516261Z"
    }
   },
   "cell_type": "code",
   "source": [
    "class Net(nn.Module):\n",
    "    def __init__(self):\n",
    "        super().__init__()\n",
    "        self.conv1 = nn.Conv2d(3, 16, kernel_size=3, padding=1)\n",
    "        self.conv2 = nn.Conv2d(16, 8, kernel_size=3, padding=1)\n",
    "        self.fc1 = nn.Linear(8 * 8 * 8, 32)\n",
    "        self.fc2 = nn.Linear(32, 2)\n",
    "    def forward(self, x):\n",
    "        out = F.max_pool2d(torch.tanh(self.conv1(x)), 2)\n",
    "        out = F.max_pool2d(torch.tanh(self.conv2(out)), 2)\n",
    "        out = out.view(-1, 8 * 8 * 8)\n",
    "        out = torch.tanh(self.fc1(out))\n",
    "        out = self.fc2(out)\n",
    "        return out"
   ],
   "id": "95e7fe9677e289cb",
   "outputs": [],
   "execution_count": 4
  },
  {
   "metadata": {
    "ExecuteTime": {
     "end_time": "2024-06-30T09:34:20.727660Z",
     "start_time": "2024-06-30T09:34:20.713669Z"
    }
   },
   "cell_type": "code",
   "source": [
    "def training_loop(n_epochs, optimizer, model, loss_fn, train_loader):\n",
    "    for epoch in range(1, n_epochs + 1): #2\n",
    "        loss_train = 0.0\n",
    "        for imgs, labels in train_loader: #3\n",
    "            outputs = model(imgs) #4\n",
    "            loss = loss_fn(outputs, labels) #5\n",
    "\n",
    "            l2_lambda = 0.001\n",
    "            l2_norm = sum(p.pow(2.0).sum() for p in model.parameters())\n",
    "            loss = loss + l2_lambda * l2_norm\n",
    "            \n",
    "            optimizer.zero_grad() #6\n",
    "            loss.backward() #7\n",
    "            optimizer.step() #8\n",
    "            loss_train += loss.item() #9\n",
    "        if epoch == 1 or epoch % 10 == 0:\n",
    "            print('{} Epoch {}, Training loss {}'.format(\n",
    "                datetime.datetime.now(), epoch,\n",
    "                loss_train / len(train_loader))) #10"
   ],
   "id": "70ebd49c0850ca77",
   "outputs": [],
   "execution_count": 12
  },
  {
   "metadata": {
    "ExecuteTime": {
     "end_time": "2024-06-30T08:38:22.523716Z",
     "start_time": "2024-06-30T08:34:39.165784Z"
    }
   },
   "cell_type": "code",
   "source": [
    "train_loader = torch.utils.data.DataLoader(cifar2, batch_size=64,\n",
    "                                           shuffle=True) #1\n",
    "model = Net() # #2\n",
    "optimizer = optim.SGD(model.parameters(), lr=1e-2) # #3\n",
    "# #4\n",
    "training_loop(  # 5\n",
    "    n_epochs=100,\n",
    "    optimizer=optimizer,\n",
    "    model=model,\n",
    "    loss_fn=(nn.CrossEntropyLoss()),\n",
    "    train_loader=train_loader,\n",
    ")"
   ],
   "id": "d10ffd11bd23072d",
   "outputs": [
    {
     "name": "stdout",
     "output_type": "stream",
     "text": [
      "2024-06-30 10:34:40.966121 Epoch 1, Training loss 0.580411914427569\n",
      "2024-06-30 10:34:56.574983 Epoch 10, Training loss 0.3301950957934568\n",
      "2024-06-30 10:35:16.216046 Epoch 20, Training loss 0.28892021839785725\n",
      "2024-06-30 10:35:36.352520 Epoch 30, Training loss 0.26423808059115317\n",
      "2024-06-30 10:35:58.114175 Epoch 40, Training loss 0.24528778425067854\n",
      "2024-06-30 10:36:20.941486 Epoch 50, Training loss 0.22959943585524892\n",
      "2024-06-30 10:36:43.314174 Epoch 60, Training loss 0.21262002930899335\n",
      "2024-06-30 10:37:06.945112 Epoch 70, Training loss 0.19489082357116566\n",
      "2024-06-30 10:37:31.155918 Epoch 80, Training loss 0.18118039352498996\n",
      "2024-06-30 10:37:55.773904 Epoch 90, Training loss 0.17061165743952345\n",
      "2024-06-30 10:38:22.517224 Epoch 100, Training loss 0.15239373831802114\n"
     ]
    }
   ],
   "execution_count": 6
  },
  {
   "metadata": {
    "ExecuteTime": {
     "end_time": "2024-06-30T09:08:09.687416Z",
     "start_time": "2024-06-30T09:08:08.444967Z"
    }
   },
   "cell_type": "code",
   "source": [
    "train_loader = torch.utils.data.DataLoader(cifar2, batch_size=64, shuffle=False)\n",
    "val_loader = torch.utils.data.DataLoader(cifar2_val, batch_size=64, shuffle=False)\n",
    "def validate(model, train_loader, val_loader):\n",
    "    for name, loader in [(\"train\", train_loader), (\"val\", val_loader)]:\n",
    "        correct = 0\n",
    "        total = 0\n",
    "        with torch.no_grad(): #1\n",
    "            for imgs, labels in loader:\n",
    "                outputs = model(imgs)\n",
    "                _, predicted = torch.max(outputs, dim=1) #2\n",
    "                total += labels.shape[0] #3\n",
    "                correct += int((predicted == labels).sum()) #4\n",
    "        print(\"Accuracy {}: {:.2f}\".format(name , correct / total))\n",
    "validate(model, train_loader, val_loader)"
   ],
   "id": "e5604b8a7223d413",
   "outputs": [
    {
     "name": "stdout",
     "output_type": "stream",
     "text": [
      "Accuracy train: 0.94\n",
      "Accuracy val: 0.89\n"
     ]
    }
   ],
   "execution_count": 7
  },
  {
   "metadata": {
    "ExecuteTime": {
     "end_time": "2024-06-30T09:08:49.250510Z",
     "start_time": "2024-06-30T09:08:49.230364Z"
    }
   },
   "cell_type": "code",
   "source": [
    "numel_list = [p.numel()\n",
    "              for p in model.parameters()\n",
    "              if p.requires_grad == True]\n",
    "sum(numel_list), numel_list"
   ],
   "id": "297c4795d4d450d",
   "outputs": [
    {
     "data": {
      "text/plain": [
       "(18090, [432, 16, 1152, 8, 16384, 32, 64, 2])"
      ]
     },
     "execution_count": 8,
     "metadata": {},
     "output_type": "execute_result"
    }
   ],
   "execution_count": 8
  },
  {
   "metadata": {
    "ExecuteTime": {
     "end_time": "2024-06-30T09:12:46.249292Z",
     "start_time": "2024-06-30T09:12:46.209225Z"
    }
   },
   "cell_type": "code",
   "source": "torch.save(model.state_dict(), data_path + 'birds_vs_airplanes.pt')",
   "id": "45a7fc5d3290f6a6",
   "outputs": [],
   "execution_count": 9
  },
  {
   "metadata": {
    "ExecuteTime": {
     "end_time": "2024-06-30T09:14:36.703378Z",
     "start_time": "2024-06-30T09:14:36.687235Z"
    }
   },
   "cell_type": "code",
   "source": [
    "loaded_model = Net()\n",
    "loaded_model.load_state_dict(torch.load(data_path + 'birds_vs_airplanes.pt'))"
   ],
   "id": "1e4e81750eed05d",
   "outputs": [
    {
     "data": {
      "text/plain": [
       "<All keys matched successfully>"
      ]
     },
     "execution_count": 10,
     "metadata": {},
     "output_type": "execute_result"
    }
   ],
   "execution_count": 10
  },
  {
   "metadata": {
    "ExecuteTime": {
     "end_time": "2024-06-30T09:35:35.229710Z",
     "start_time": "2024-06-30T09:34:30.749301Z"
    }
   },
   "cell_type": "code",
   "source": [
    "optimizer = optim.SGD(loaded_model.parameters(), lr=1e-2) # #3\n",
    "training_loop( #5\n",
    "    n_epochs = 30,\n",
    "    optimizer = optimizer,\n",
    "    model = loaded_model,\n",
    "    loss_fn = nn.CrossEntropyLoss(),\n",
    "    train_loader = train_loader,\n",
    ")"
   ],
   "id": "9d4ae94ff296d473",
   "outputs": [
    {
     "name": "stdout",
     "output_type": "stream",
     "text": [
      "2024-06-30 11:34:32.707331 Epoch 1, Training loss 0.19355731020877315\n",
      "2024-06-30 11:34:49.985115 Epoch 10, Training loss 0.18582125743673106\n",
      "2024-06-30 11:35:11.685179 Epoch 20, Training loss 0.17812238766509256\n",
      "2024-06-30 11:35:35.214690 Epoch 30, Training loss 0.1710864312614605\n"
     ]
    }
   ],
   "execution_count": 13
  },
  {
   "metadata": {
    "ExecuteTime": {
     "end_time": "2024-06-30T11:11:41.001635Z",
     "start_time": "2024-06-30T11:11:40.973247Z"
    }
   },
   "cell_type": "code",
   "source": [
    "a = torch.rand(100)*1e3\n",
    "print(f'{a.min()=}')\n",
    "print(f'{a.max()=}')\n",
    "a_mean = a.mean()\n",
    "a_std = a.std()\n",
    "print(f'{a_mean=}')\n",
    "print(f'{a_std=}')\n",
    "b = (a - a_mean) / a_std\n",
    "print(f'{b.min()=}')\n",
    "print(f'{b.max()=}')\n",
    "b_mean = b.mean()\n",
    "b_std = b.std()\n",
    "print(f'{b_mean=}')\n",
    "print(f'{b_std=}')"
   ],
   "id": "f8e1f1ac614484bd",
   "outputs": [
    {
     "name": "stdout",
     "output_type": "stream",
     "text": [
      "a.min()=tensor(27.5252)\n",
      "a.max()=tensor(991.1556)\n",
      "a_mean=tensor(526.6780)\n",
      "a_std=tensor(284.8911)\n",
      "b.min()=tensor(-1.7521)\n",
      "b.max()=tensor(1.6304)\n",
      "b_mean=tensor(2.3127e-07)\n",
      "b_std=tensor(1.)\n"
     ]
    }
   ],
   "execution_count": 17
  }
 ],
 "metadata": {
  "kernelspec": {
   "display_name": "Python 3",
   "language": "python",
   "name": "python3"
  },
  "language_info": {
   "codemirror_mode": {
    "name": "ipython",
    "version": 2
   },
   "file_extension": ".py",
   "mimetype": "text/x-python",
   "name": "python",
   "nbconvert_exporter": "python",
   "pygments_lexer": "ipython2",
   "version": "2.7.6"
  }
 },
 "nbformat": 4,
 "nbformat_minor": 5
}
