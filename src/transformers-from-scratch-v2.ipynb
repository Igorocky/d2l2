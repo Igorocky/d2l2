{
 "cells": [
  {
   "cell_type": "code",
   "execution_count": 1,
   "id": "8f61688e-c1a6-4ce4-acbd-a0c9ac130261",
   "metadata": {},
   "outputs": [],
   "source": [
    "# https://www.hyugen.com/article/transformers-in-pytorch-from-scratch-for-nlp-beginners-113cb366a5"
   ]
  },
  {
   "cell_type": "code",
   "execution_count": 36,
   "id": "29697333-e0ac-4d5b-8f15-f3dd5b6fcf44",
   "metadata": {},
   "outputs": [],
   "source": [
    "import torch\n",
    "import torch.nn as nn\n",
    "import torch.nn.functional as F\n",
    "import numpy as np\n",
    "import os\n",
    "import math\n",
    "import matplotlib.pyplot as plt\n",
    "%matplotlib inline"
   ]
  },
  {
   "cell_type": "code",
   "execution_count": 7,
   "metadata": {},
   "outputs": [
    {
     "name": "stdout",
     "output_type": "stream",
     "text": [
      "len(text)=33943\n"
     ]
    }
   ],
   "source": [
    "with open('../data/transformers-from-scratch-v2-text.txt', 'r', encoding='utf-8') as f:\n",
    "    text = f.read()\n",
    "print(f'{len(text)=}')"
   ]
  },
  {
   "cell_type": "code",
   "execution_count": 18,
   "metadata": {},
   "outputs": [],
   "source": [
    "chars = sorted(c for c in set(text) if ord(c) < 128)"
   ]
  },
  {
   "cell_type": "code",
   "execution_count": 52,
   "id": "0485785e-e604-44d8-a49d-25df35bab624",
   "metadata": {},
   "outputs": [
    {
     "name": "stdout",
     "output_type": "stream",
     "text": [
      "wq.shape=torch.Size([4, 2, 64])\n",
      "x.shape=torch.Size([32, 400])\n"
     ]
    }
   ],
   "source": [
    "torch.manual_seed(123123)\n",
    "tokens_amount = len(chars)\n",
    "emb_len = 2*1\n",
    "heads_num = 4\n",
    "head_size = 64\n",
    "seq_len = 40\n",
    "batch_size = 32\n",
    "\n",
    "emb = nn.Embedding(tokens_amount, emb_len)\n",
    "wq = torch.randn(heads_num,emb_len,head_size)\n",
    "wk = torch.randn(heads_num,emb_len,head_size)\n",
    "wv = torch.randn(heads_num,emb_len,head_size)\n",
    "\n",
    "x = torch.randint(0, tokens_amount, (batch_size, ctx_len))\n",
    "\n",
    "print(f'{wq.shape=}')\n",
    "print(f'{x.shape=}')"
   ]
  },
  {
   "cell_type": "code",
   "execution_count": 81,
   "metadata": {},
   "outputs": [
    {
     "data": {
      "text/plain": [
       "tensor([0, 1, 2, 3, 4, 5, 6, 7, 8, 9])"
      ]
     },
     "execution_count": 81,
     "metadata": {},
     "output_type": "execute_result"
    }
   ],
   "source": [
    "torch.arange(10)"
   ]
  },
  {
   "cell_type": "code",
   "execution_count": 53,
   "metadata": {},
   "outputs": [],
   "source": [
    "class PositionalEmbedding(nn.Module):\n",
    "    def __init__(self,seq_len,emb_len):\n",
    "        super().__init__()\n",
    "        self.pos_emb = torch.randn((seq_len,emb_len), requires_grad=True)\n",
    "    def forward(self,x):\n",
    "        return x + self.pos_emb"
   ]
  }
 ],
 "metadata": {
  "kernelspec": {
   "display_name": ".venv",
   "language": "python",
   "name": "python3"
  },
  "language_info": {
   "codemirror_mode": {
    "name": "ipython",
    "version": 3
   },
   "file_extension": ".py",
   "mimetype": "text/x-python",
   "name": "python",
   "nbconvert_exporter": "python",
   "pygments_lexer": "ipython3",
   "version": "3.9.5"
  }
 },
 "nbformat": 4,
 "nbformat_minor": 5
}
